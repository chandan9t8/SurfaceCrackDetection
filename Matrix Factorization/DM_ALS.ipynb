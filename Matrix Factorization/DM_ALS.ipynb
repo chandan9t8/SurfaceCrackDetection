{
  "nbformat": 4,
  "nbformat_minor": 0,
  "metadata": {
    "colab": {
      "provenance": [],
      "authorship_tag": "ABX9TyM4KbC3XkkTK9HwQRAU4zlx",
      "include_colab_link": true
    },
    "kernelspec": {
      "name": "python3",
      "display_name": "Python 3"
    },
    "language_info": {
      "name": "python"
    }
  },
  "cells": [
    {
      "cell_type": "markdown",
      "metadata": {
        "id": "view-in-github",
        "colab_type": "text"
      },
      "source": [
        "<a href=\"https://colab.research.google.com/github/chandan9t8/UnivProjects/blob/main/Matrix%20Factorization/DM_ALS.ipynb\" target=\"_parent\"><img src=\"https://colab.research.google.com/assets/colab-badge.svg\" alt=\"Open In Colab\"/></a>"
      ]
    },
    {
      "cell_type": "code",
      "execution_count": null,
      "metadata": {
        "id": "mtj8B2lovkpT"
      },
      "outputs": [],
      "source": [
        "import pandas as pd\n",
        "import numpy as np\n",
        "import matplotlib.pyplot as plt"
      ]
    },
    {
      "cell_type": "code",
      "source": [
        "def matrix_factorisation_als(data, lambda_reg, k, epochs):\n",
        "    num_users, num_items = data.shape\n",
        "\n",
        "    U = 0.001 * np.random.rand(num_users, k)  # Adjust initialization\n",
        "    V = 0.001 * np.random.rand(num_items, k)\n",
        "\n",
        "    data = np.nan_to_num(data, nan=0)\n",
        "\n",
        "    errors = []\n",
        "\n",
        "    for epoch in range(epochs):\n",
        "        for i in range(num_users):\n",
        "            U[i, :] = np.linalg.solve(np.dot(V.T, V) + lambda_reg * np.eye(k), np.dot(V.T, data[i, :]))\n",
        "\n",
        "        for j in range(num_items):\n",
        "            V[j, :] = np.linalg.solve(np.dot(U.T, U) + lambda_reg * np.eye(k), np.dot(U.T, data[:, j]))\n",
        "\n",
        "        # Calculate error\n",
        "        error = np.sum((data - np.dot(U, V.T))**2) + lambda_reg * (np.sum(U**2) + np.sum(V**2))\n",
        "        errors.append(error)\n",
        "\n",
        "        if epoch % 50 == 0:\n",
        "            print(f\"Step {epoch}/{epochs}, Error: {error}\")\n",
        "\n",
        "    # Plot convergence\n",
        "    plt.plot(errors)\n",
        "    plt.xlabel('Epoch')\n",
        "    plt.ylabel('Cost')\n",
        "    plt.title('Convergence of Cost Function')\n",
        "    plt.show()\n",
        "\n",
        "    return U, V, errors\n"
      ],
      "metadata": {
        "id": "ebjVkxrPPMbQ"
      },
      "execution_count": null,
      "outputs": []
    },
    {
      "cell_type": "code",
      "source": [
        "from google.colab import drive\n",
        "drive.mount('/content/drive')"
      ],
      "metadata": {
        "colab": {
          "base_uri": "https://localhost:8080/"
        },
        "id": "WOZI5jPntgKM",
        "outputId": "5a83912f-19a5-4220-a036-a4842cc4c36e"
      },
      "execution_count": null,
      "outputs": [
        {
          "output_type": "stream",
          "name": "stdout",
          "text": [
            "Mounted at /content/drive\n"
          ]
        }
      ]
    },
    {
      "cell_type": "code",
      "source": [
        "dataset_path = '/content/drive/MyDrive/Data/ratings.csv'\n",
        "ratings_data = pd.read_csv(dataset_path)"
      ],
      "metadata": {
        "id": "fuPQO_d0t61j"
      },
      "execution_count": null,
      "outputs": []
    },
    {
      "cell_type": "code",
      "source": [
        "user_item_matrix = pd.pivot_table(ratings_data, values='recommendation-score', index='user-id', columns='movie-id')\n",
        "print(user_item_matrix)"
      ],
      "metadata": {
        "colab": {
          "base_uri": "https://localhost:8080/"
        },
        "id": "J1_osiD4pZn3",
        "outputId": "172ff3c3-9dd8-401a-fae5-031f5a7549f3"
      },
      "execution_count": null,
      "outputs": [
        {
          "output_type": "stream",
          "name": "stdout",
          "text": [
            "movie-id  0     1     2     3     4     5     6     7     8     9     ...  \\\n",
            "user-id                                                               ...   \n",
            "0          3.5   NaN   NaN   NaN   NaN   2.5   2.0   NaN   NaN   3.0  ...   \n",
            "1          4.0   4.0   3.0   NaN   3.0   1.0   3.0   NaN   3.0   3.0  ...   \n",
            "2          NaN   3.0   3.0   NaN   3.0   NaN   NaN   NaN   4.0   NaN  ...   \n",
            "3          2.0   2.0   NaN   NaN   4.5   4.0   NaN   NaN   3.0   2.5  ...   \n",
            "4          5.0   2.5   NaN   NaN   NaN   4.5   NaN   NaN   3.0   NaN  ...   \n",
            "...        ...   ...   ...   ...   ...   ...   ...   ...   ...   ...  ...   \n",
            "301        NaN   NaN   NaN   NaN   NaN   NaN   NaN   NaN   NaN   NaN  ...   \n",
            "302        4.0   NaN   NaN   NaN   NaN   NaN   NaN   NaN   NaN   NaN  ...   \n",
            "303        5.0   3.5   NaN   NaN   5.0   NaN   NaN   NaN   NaN   NaN  ...   \n",
            "304        3.0   NaN   NaN   NaN   NaN   NaN   NaN   NaN   NaN   NaN  ...   \n",
            "305        NaN   NaN   NaN   NaN   NaN   NaN   NaN   NaN   NaN   NaN  ...   \n",
            "\n",
            "movie-id  2946  2947  2948  2949  2950  2951  2952  2953  2954  2955  \n",
            "user-id                                                               \n",
            "0          NaN   4.5   NaN   4.0   NaN   3.5   2.5   NaN   4.5   NaN  \n",
            "1          NaN   NaN   NaN   NaN   NaN   NaN   NaN   NaN   NaN   NaN  \n",
            "2          1.5   4.0   NaN   NaN   2.0   NaN   NaN   NaN   NaN   NaN  \n",
            "3          3.0   3.5   NaN   1.0   3.0   2.5   3.0   3.5   3.5   3.0  \n",
            "4          NaN   4.5   NaN   NaN   NaN   4.0   3.5   NaN   3.5   NaN  \n",
            "...        ...   ...   ...   ...   ...   ...   ...   ...   ...   ...  \n",
            "301        NaN   NaN   NaN   NaN   NaN   NaN   NaN   NaN   NaN   NaN  \n",
            "302        NaN   NaN   NaN   NaN   NaN   NaN   NaN   NaN   NaN   NaN  \n",
            "303        NaN   NaN   NaN   NaN   NaN   NaN   NaN   NaN   NaN   NaN  \n",
            "304        NaN   NaN   NaN   NaN   NaN   NaN   NaN   NaN   NaN   NaN  \n",
            "305        NaN   NaN   NaN   NaN   NaN   NaN   NaN   NaN   NaN   NaN  \n",
            "\n",
            "[306 rows x 2956 columns]\n"
          ]
        }
      ]
    },
    {
      "cell_type": "code",
      "source": [
        "k = 30\n",
        "epochs = 1000\n",
        "regularization_rate = 0.01"
      ],
      "metadata": {
        "id": "ix2HH7BHuN04"
      },
      "execution_count": null,
      "outputs": []
    },
    {
      "cell_type": "code",
      "source": [
        "U,V,cost_matrix = matrix_factorisation_als(user_item_matrix.fillna(0),regularization_rate, k, epochs)"
      ],
      "metadata": {
        "colab": {
          "base_uri": "https://localhost:8080/",
          "height": 829
        },
        "id": "4EuntjiUuQpo",
        "outputId": "8e8a40d0-c34f-4be9-cb6a-1be175a133dc"
      },
      "execution_count": null,
      "outputs": [
        {
          "output_type": "stream",
          "name": "stdout",
          "text": [
            "Step 0/1000, Error: 570458.2899933811\n",
            "Step 50/1000, Error: 426065.6313191128\n",
            "Step 100/1000, Error: 425334.693421012\n",
            "Step 150/1000, Error: 425071.24708007893\n",
            "Step 200/1000, Error: 424933.23707511905\n",
            "Step 250/1000, Error: 424848.438372845\n",
            "Step 300/1000, Error: 424790.0672403751\n",
            "Step 350/1000, Error: 424746.7757642877\n",
            "Step 400/1000, Error: 424713.0547011482\n",
            "Step 450/1000, Error: 424685.87334912794\n",
            "Step 500/1000, Error: 424663.4001999225\n",
            "Step 550/1000, Error: 424644.4506469445\n",
            "Step 600/1000, Error: 424628.21885814023\n",
            "Step 650/1000, Error: 424614.13480274944\n",
            "Step 700/1000, Error: 424601.78234932944\n",
            "Step 750/1000, Error: 424590.84968489135\n",
            "Step 800/1000, Error: 424581.0979543125\n",
            "Step 850/1000, Error: 424572.34069661645\n",
            "Step 900/1000, Error: 424564.42994460126\n",
            "Step 950/1000, Error: 424557.2465794192\n"
          ]
        },
        {
          "output_type": "display_data",
          "data": {
            "text/plain": [
              "<Figure size 640x480 with 1 Axes>"
            ],
            "image/png": "[encoded data removed]"
          },
          "metadata": {}
        }
      ]
    },
    {
      "cell_type": "code",
      "source": [
        "test_data = pd.read_csv('/content/drive/MyDrive/Data/test.csv')"
      ],
      "metadata": {
        "id": "S_LHyZwO8Vnu"
      },
      "execution_count": null,
      "outputs": []
    },
    {
      "cell_type": "code",
      "source": [
        "predicted_scores = []\n",
        "\n",
        "for _, row in test_data.iterrows():\n",
        "\n",
        "    user_id = int(row['user-id'])\n",
        "\n",
        "    movie_id = int(row['movie-id'])\n",
        "\n",
        "\n",
        "    score = round(np.dot(U[user_id], V[movie_id].T) * 2) / 2\n",
        "    predicted_scores.append(score)"
      ],
      "metadata": {
        "id": "240qcQES8its"
      },
      "execution_count": null,
      "outputs": []
    },
    {
      "cell_type": "code",
      "source": [
        "%%capture a\n",
        "for i in predicted_scores:\n",
        "    print(i)\n",
        "\n",
        "# Now 'a' contains the captured output\n",
        "# You can write it to a file or access it as needed\n",
        "with open('/content/drive/MyDrive/Data/alspredictions.txt', 'w') as f:\n",
        "    f.write(a.stdout)"
      ],
      "metadata": {
        "id": "nR4jhRL18lFx"
      },
      "execution_count": null,
      "outputs": []
    },
    {
      "cell_type": "code",
      "source": [],
      "metadata": {
        "id": "Y_CWBZec38-1"
      },
      "execution_count": null,
      "outputs": []
    }
  ]
}
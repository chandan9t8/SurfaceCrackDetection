{
  "cells": [
    {
      "cell_type": "markdown",
      "metadata": {
        "id": "view-in-github",
        "colab_type": "text"
      },
      "source": [
        "<a href=\"https://colab.research.google.com/github/chandan9t8/UnivProjects/blob/main/Naive%20Bayes%20Classifier/NaiveBayesClassifier.ipynb\" target=\"_parent\"><img src=\"https://colab.research.google.com/assets/colab-badge.svg\" alt=\"Open In Colab\"/></a>"
      ]
    },
    {
      "cell_type": "code",
      "execution_count": null,
      "id": "5a5a49fb",
      "metadata": {
        "id": "5a5a49fb"
      },
      "outputs": [],
      "source": [
        "import pandas as pd\n",
        "import numpy as np\n",
        "from collections import defaultdict\n",
        "import math"
      ]
    },
    {
      "cell_type": "code",
      "execution_count": null,
      "id": "0a7f2ca2",
      "metadata": {
        "id": "0a7f2ca2",
        "outputId": "5e5c7caf-bac7-4a18-8d65-22e860a90985"
      },
      "outputs": [
        {
          "name": "stdout",
          "output_type": "stream",
          "text": [
            "         W1      W2 Label\n",
            "0      blue  gloves     Y\n",
            "1      blue     hat     Y\n",
            "2  cautious     cat     Y\n",
            "3       new     hat     Y\n",
            "4  cautious     cat     Y\n",
            "5  cautious     cat     N\n",
            "6  cautious     hat     N\n",
            "7       new  gloves     N\n",
            "8       new     cat     N\n"
          ]
        }
      ],
      "source": [
        "import pandas as pd\n",
        "\n",
        "data = {\n",
        "    'W1': ['blue', 'blue', 'cautious', 'new', 'cautious', 'cautious', 'cautious', 'new', 'new'],\n",
        "    'W2': ['gloves', 'hat', 'cat', 'hat', 'cat', 'cat', 'hat', 'gloves', 'cat'],\n",
        "    'Label': ['Y', 'Y', 'Y', 'Y', 'Y', 'N', 'N', 'N', 'N']\n",
        "}\n",
        "\n",
        "df = pd.DataFrame(data)\n",
        "\n",
        "print(df)"
      ]
    },
    {
      "cell_type": "code",
      "execution_count": null,
      "id": "ec9e8381",
      "metadata": {
        "id": "ec9e8381",
        "outputId": "b865cae0-f984-4db1-8675-5a170dc57078"
      },
      "outputs": [
        {
          "name": "stdout",
          "output_type": "stream",
          "text": [
            "P(W1|Y): {'cautious': 0.4, 'new': 0.2, 'blue': 0.4}\n",
            "P(W1|N): {'cautious': 0.5, 'new': 0.5, 'blue': 0}\n",
            "\n",
            "\n",
            "P(W2|Y): {'hat': 0.4, 'cat': 0.4, 'gloves': 0.2}\n",
            "P(W2|N): {'hat': 0.25, 'cat': 0.5, 'gloves': 0.25}\n"
          ]
        }
      ],
      "source": [
        "import math\n",
        "\n",
        "def estimate_cond_probs(feature_values, labels):\n",
        "\n",
        "    data = list(zip(feature_values, labels))\n",
        "\n",
        "    counts = defaultdict(lambda: {'Y': 0, 'N': 0})\n",
        "    label_counts = {'Y': 0, 'N': 0}\n",
        "\n",
        "    for value, label in data:\n",
        "        counts[value][label] += 1\n",
        "        label_counts[label] += 1\n",
        "\n",
        "    cond_probs_Y = {}\n",
        "    cond_probs_N = {}\n",
        "\n",
        "    unique_values = set(feature_values)\n",
        "\n",
        "    for value in unique_values:\n",
        "\n",
        "        cond_probs_Y[value] = counts[value]['Y'] / label_counts['Y'] if counts[value]['Y'] > 0 else 0\n",
        "\n",
        "        cond_probs_N[value] = counts[value]['N'] / label_counts['N'] if counts[value]['N'] > 0 else 0\n",
        "\n",
        "    return cond_probs_Y, cond_probs_N\n",
        "\n",
        "\n",
        "feature_values_W1 = df['W1']\n",
        "labels_W1 = df['Label']\n",
        "\n",
        "feature_values_W2 = df['W2']\n",
        "labels_W2 = df['Label']\n",
        "\n",
        "cond_probs_Y_W1, cond_probs_N_W1 = estimate_cond_probs(feature_values_W1, labels_W1)\n",
        "cond_probs_Y_W2, cond_probs_N_W2 = estimate_cond_probs(feature_values_W2, labels_W2)\n",
        "\n",
        "print(\"P(W1|Y):\", cond_probs_Y_W1)\n",
        "print(\"P(W1|N):\", cond_probs_N_W1)\n",
        "print('\\n')\n",
        "print(\"P(W2|Y):\", cond_probs_Y_W2)\n",
        "print(\"P(W2|N):\", cond_probs_N_W2)"
      ]
    },
    {
      "cell_type": "code",
      "execution_count": null,
      "id": "bd5b1b54",
      "metadata": {
        "id": "bd5b1b54",
        "outputId": "6c369c7c-ae27-4414-ff4f-4957e7c51708"
      },
      "outputs": [
        {
          "name": "stdout",
          "output_type": "stream",
          "text": [
            "logP(W1|Y)['blue']: -0.916290731874155\n",
            "logP(W1|N)['blue']: undefined\n"
          ]
        }
      ],
      "source": [
        "import math\n",
        "\n",
        "feature_value = \"blue\"\n",
        "\n",
        "if cond_probs_Y_W1.get(feature_value)!=0:\n",
        "    log_prob_Y_W1= math.log(cond_probs_Y_W1.get(feature_value))\n",
        "else:\n",
        "    log_prob_Y_W1 = \"undefined\"\n",
        "\n",
        "\n",
        "if cond_probs_N_W1.get(feature_value)!=0:\n",
        "    log_prob_N_W1= math.log(cond_probs_N_W1.get(feature_value))\n",
        "else:\n",
        "    log_prob_N_W1 = \"undefined\"\n",
        "\n",
        "\n",
        "print(f\"logP(W1|Y)['{feature_value}']: {log_prob_Y_W1}\")\n",
        "print(f\"logP(W1|N)['{feature_value}']: {log_prob_N_W1}\")"
      ]
    },
    {
      "cell_type": "code",
      "execution_count": null,
      "id": "41071ce7",
      "metadata": {
        "id": "41071ce7",
        "outputId": "1ba108af-c5f0-4710-8936-0f8430bffca9"
      },
      "outputs": [
        {
          "name": "stdout",
          "output_type": "stream",
          "text": [
            "logP(W2|Y)['cat']: -0.916290731874155\n",
            "logP(W2|N)['cat']: -0.6931471805599453\n"
          ]
        }
      ],
      "source": [
        "feature_value = \"cat\"\n",
        "\n",
        "if cond_probs_Y_W2.get(feature_value)!=0:\n",
        "    log_prob_Y_W2= math.log(cond_probs_Y_W2.get(feature_value))\n",
        "else:\n",
        "    log_prob_Y_W2 = \"undefined\"\n",
        "\n",
        "\n",
        "if cond_probs_N_W2.get(feature_value)!=0:\n",
        "    log_prob_N_W2= math.log(cond_probs_N_W2.get(feature_value))\n",
        "else:\n",
        "    log_prob_N_W2 = \"undefined\"\n",
        "\n",
        "\n",
        "print(f\"logP(W2|Y)['{feature_value}']: {log_prob_Y_W2}\")\n",
        "print(f\"logP(W2|N)['{feature_value}']: {log_prob_N_W2}\")"
      ]
    },
    {
      "cell_type": "code",
      "execution_count": null,
      "id": "2f276df5",
      "metadata": {
        "id": "2f276df5",
        "outputId": "31ec1410-37a9-4206-d4eb-19eb354ce76b"
      },
      "outputs": [
        {
          "name": "stdout",
          "output_type": "stream",
          "text": [
            "Prior Probability P(Y): 0.5555555555555556\n"
          ]
        }
      ],
      "source": [
        "def estimate_prob_Y(labels):\n",
        "\n",
        "    label_counts = {'Y': 0, 'N': 0}\n",
        "\n",
        "    for label in labels:\n",
        "        label_counts[label] += 1\n",
        "\n",
        "    prob_Y = label_counts['Y'] / len(labels) if label_counts['Y'] > 0 else 0\n",
        "\n",
        "    return prob_Y\n",
        "\n",
        "labels = df['Label']\n",
        "\n",
        "prior_prob_Y = estimate_prob_Y(labels)\n",
        "\n",
        "print(\"Prior Probability P(Y):\", prior_prob_Y)"
      ]
    },
    {
      "cell_type": "code",
      "execution_count": null,
      "id": "9a2157fb",
      "metadata": {
        "id": "9a2157fb",
        "outputId": "38bf5431-5f5b-4ab2-b4c4-a21e789e78d5"
      },
      "outputs": [
        {
          "name": "stdout",
          "output_type": "stream",
          "text": [
            "-0.587786664902119\n"
          ]
        }
      ],
      "source": [
        "print(math.log(estimate_prob_Y(df['Label'])))"
      ]
    },
    {
      "cell_type": "code",
      "execution_count": null,
      "id": "fb262e82",
      "metadata": {
        "id": "fb262e82"
      },
      "outputs": [],
      "source": [
        "def classify(trained_model, X):\n",
        "\n",
        "    cond_probs_Y_W1, cond_probs_N_W1 = trained_model[0]\n",
        "    cond_probs_Y_W2, cond_probs_N_W2 = trained_model[1]\n",
        "    prior_prob_Y = trained_model[2]\n",
        "\n",
        "    mapped_X = X\n",
        "\n",
        "    log_prob_Y = math.log(list(cond_probs_Y_W1.values())[mapped_X[0]]) + math.log(list(cond_probs_Y_W2.values())[mapped_X[1]])\n",
        "    log_prob_N = math.log(list(cond_probs_N_W1.values())[mapped_X[0]]) + math.log(list(cond_probs_N_W2.values())[mapped_X[1]])\n",
        "\n",
        "    log_prob_Y += math.log(prior_prob_Y)\n",
        "    log_prob_N += math.log(1 - prior_prob_Y)\n",
        "\n",
        "    predicted_class = \"Y\" if log_prob_Y > log_prob_N else \"N\"\n",
        "\n",
        "    return predicted_class, log_prob_Y, log_prob_N"
      ]
    },
    {
      "cell_type": "code",
      "execution_count": null,
      "id": "d8ef39f1",
      "metadata": {
        "id": "d8ef39f1",
        "outputId": "7982fe53-4f90-4dff-fd12-f7c0eaf96013"
      },
      "outputs": [
        {
          "name": "stdout",
          "output_type": "stream",
          "text": [
            "Predicted Class: N\n",
            "Log Probability (Y): -3.1135153092103742\n",
            "Log Probability (N): -2.8903717578961645\n"
          ]
        }
      ],
      "source": [
        "new_feature_vector = [\"cautious\", \"gloves\"]\n",
        "\n",
        "mapped_X = [list(cond_probs_Y_W1).index(new_feature_vector[0]), list(cond_probs_Y_W2).index(new_feature_vector[1])]\n",
        "result = classify((estimate_cond_probs(feature_values_W1, labels_W1), estimate_cond_probs(feature_values_W2, labels_W2), prior_prob_Y), mapped_X)\n",
        "\n",
        "print(\"Predicted Class:\", result[0])\n",
        "print(\"Log Probability (Y):\", result[1])\n",
        "print(\"Log Probability (N):\", result[2])\n"
      ]
    },
    {
      "cell_type": "code",
      "execution_count": null,
      "id": "f9ad1bb1",
      "metadata": {
        "id": "f9ad1bb1"
      },
      "outputs": [],
      "source": []
    }
  ],
  "metadata": {
    "kernelspec": {
      "display_name": "Python 3 (ipykernel)",
      "language": "python",
      "name": "python3"
    },
    "language_info": {
      "codemirror_mode": {
        "name": "ipython",
        "version": 3
      },
      "file_extension": ".py",
      "mimetype": "text/x-python",
      "name": "python",
      "nbconvert_exporter": "python",
      "pygments_lexer": "ipython3",
      "version": "3.9.13"
    },
    "colab": {
      "provenance": [],
      "include_colab_link": true
    }
  },
  "nbformat": 4,
  "nbformat_minor": 5
}